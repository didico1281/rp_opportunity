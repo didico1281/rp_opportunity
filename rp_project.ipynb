{
 "cells": [
  {
   "cell_type": "code",
   "execution_count": 0,
   "metadata": {
    "application/vnd.databricks.v1+cell": {
     "cellMetadata": {
      "byteLimit": 2048000,
      "rowLimit": 10000
     },
     "inputWidgets": {},
     "nuid": "09beb37a-8e31-4ca7-a1bd-e6485c7d14fa",
     "showTitle": false,
     "tableResultSettingsMap": {},
     "title": ""
    }
   },
   "outputs": [],
   "source": [
    "# dbutils.fs.mkdirs(\"/Volumes/recargapay/recargapay/vol_rp/bronze\")"
   ]
  },
  {
   "cell_type": "code",
   "execution_count": 0,
   "metadata": {
    "application/vnd.databricks.v1+cell": {
     "cellMetadata": {
      "byteLimit": 2048000,
      "rowLimit": 10000
     },
     "inputWidgets": {},
     "nuid": "15e8570f-c820-4b0b-b232-567b2af81a37",
     "showTitle": false,
     "tableResultSettingsMap": {},
     "title": ""
    }
   },
   "outputs": [],
   "source": [
    "# dbutils.fs.mkdirs(\"/Volumes/recargapay/recargapay/vol_rp/silver\")"
   ]
  },
  {
   "cell_type": "code",
   "execution_count": 0,
   "metadata": {
    "application/vnd.databricks.v1+cell": {
     "cellMetadata": {
      "byteLimit": 2048000,
      "rowLimit": 10000
     },
     "inputWidgets": {},
     "nuid": "569ba224-b00a-4755-92e5-2b7e40b9d2a2",
     "showTitle": false,
     "tableResultSettingsMap": {},
     "title": ""
    }
   },
   "outputs": [],
   "source": [
    "# dbutils.fs.mkdirs(\"/Volumes/recargapay/recargapay/vol_rp/gold\")"
   ]
  },
  {
   "cell_type": "code",
   "execution_count": 0,
   "metadata": {
    "application/vnd.databricks.v1+cell": {
     "cellMetadata": {
      "byteLimit": 2048000,
      "rowLimit": 10000
     },
     "inputWidgets": {},
     "nuid": "a6bd656a-4523-46c1-9129-2f1b275beb93",
     "showTitle": false,
     "tableResultSettingsMap": {},
     "title": ""
    }
   },
   "outputs": [],
   "source": [
    "df_transactions = spark.read.format('parquet').option('header', 'true').option('inferSchema', 'true').load(\"/Volumes/recargapay/recargapay/vol_rp/bronze/*.parquet\").orderBy(\"account_id\", \"event_time\")"
   ]
  },
  {
   "cell_type": "code",
   "execution_count": 0,
   "metadata": {
    "application/vnd.databricks.v1+cell": {
     "cellMetadata": {
      "byteLimit": 2048000,
      "rowLimit": 10000
     },
     "inputWidgets": {},
     "nuid": "f63aefdf-10e0-4665-856e-fb6308e1a992",
     "showTitle": false,
     "tableResultSettingsMap": {},
     "title": ""
    }
   },
   "outputs": [],
   "source": [
    "from pyspark.sql import SparkSession\n",
    "from pyspark.sql.functions import (\n",
    "    col, sum as _sum, to_date, min as _min, max as _max,\n",
    "    expr\n",
    ")\n",
    "\n",
    "# Start Spark session\n",
    "spark = SparkSession.builder.appName(\"AccountTransactions\").getOrCreate()\n",
    "\n",
    "# 1. Format date and aggregate transaction amounts per day\n",
    "df_daily_transactions = (\n",
    "    df_transactions.withColumn(\"date\", to_date(\"event_time\"))\n",
    "      .groupBy(\"account_id\", \"user_id\", \"date\")\n",
    "      .agg(_sum(\"amount\").alias(\"daily_amount\"))\n",
    ")\n",
    "\n",
    "# 2. Get date range (start and end date) per account\n",
    "df_range = df_daily_transactions.groupBy(\"account_id\").agg(\n",
    "    _min(\"date\").alias(\"start_date\"),\n",
    "    _max(\"date\").alias(\"end_date\")\n",
    ")\n",
    "\n",
    "# 3. Create a sequence of dates for each account\n",
    "df_all_dates = df_range.select(\n",
    "    col(\"account_id\"),\n",
    "    expr(\"sequence(start_date, end_date)\").alias(\"all_dates\")\n",
    ").withColumn(\"date\", expr(\"explode(all_dates)\")).drop(\"all_dates\")\n",
    "\n",
    "# 4. Join with unique combinations of account and user\n",
    "df_users = df_daily_transactions.select(\"account_id\", \"user_id\").distinct()\n",
    "\n",
    "df_complete = (\n",
    "    df_all_dates\n",
    "    .join(df_users, on=\"account_id\")\n",
    "    .join(df_daily_transactions, on=[\"account_id\", \"user_id\", \"date\"], how=\"left\")\n",
    "    .fillna(0, subset=[\"daily_amount\"])\n",
    ")\n",
    "\n",
    "# 5. Final result: df_complete\n",
    "df_complete.orderBy(\"account_id\", \"date\").display()\n"
   ]
  },
  {
   "cell_type": "code",
   "execution_count": 0,
   "metadata": {
    "application/vnd.databricks.v1+cell": {
     "cellMetadata": {
      "byteLimit": 2048000,
      "rowLimit": 10000
     },
     "inputWidgets": {},
     "nuid": "cd1fd8e5-be8d-46f9-ae12-a0e416912ca8",
     "showTitle": false,
     "tableResultSettingsMap": {},
     "title": ""
    }
   },
   "outputs": [],
   "source": [
    "df_complete.write.format(\"delta\") \\\n",
    "    .mode(\"overwrite\") \\\n",
    "    .partitionBy(\"date\") \\\n",
    "    .save(\"/Volumes/recargapay/recargapay/vol_rp/silver/account_daily_amount\")"
   ]
  },
  {
   "cell_type": "code",
   "execution_count": 0,
   "metadata": {
    "application/vnd.databricks.v1+cell": {
     "cellMetadata": {
      "byteLimit": 2048000,
      "rowLimit": 10000
     },
     "inputWidgets": {},
     "nuid": "692e6a4c-6ade-4fa3-b941-0b3fe7d0b67b",
     "showTitle": false,
     "tableResultSettingsMap": {
      "0": {
       "dataGridStateBlob": "{\"version\":1,\"tableState\":{\"columnPinning\":{\"left\":[\"#row_number#\"],\"right\":[]},\"columnSizing\":{},\"columnVisibility\":{}},\"settings\":{\"columns\":{}},\"syncTimestamp\":1754614972378}",
       "filterBlob": null,
       "queryPlanFiltersBlob": null,
       "tableResultIndex": 0
      }
     },
     "title": ""
    }
   },
   "outputs": [],
   "source": [
    "from pyspark.sql.window import Window\n",
    "from pyspark.sql.functions import lag, sum as _sum, when, round, col\n",
    "\n",
    "# 1. Create a window partitioned by account and ordered by date\n",
    "account_window = Window.partitionBy(\"account_id\").orderBy(\"date\")\n",
    "\n",
    "# 2. Cumulative balance per account (daily_balance)\n",
    "df_complete = df_complete.withColumn(\n",
    "    \"daily_balance\",\n",
    "    round(_sum(\"daily_amount\").over(account_window), 2)\n",
    ")\n",
    "\n",
    "# 3. Previous day's balance\n",
    "df_complete = df_complete.withColumn(\n",
    "    \"prev_balance\",\n",
    "    lag(\"daily_balance\", 1).over(account_window)\n",
    ")\n",
    "\n",
    "# 4. 1% interest on balances greater than 100\n",
    "df_complete = df_complete.withColumn(\n",
    "    \"interest_above_100\",\n",
    "    when(col(\"daily_balance\") > 100, round(col(\"daily_balance\") * 0.01, 2)).otherwise(0.0)\n",
    ")\n",
    "\n",
    "# 5. 0.5% interest on previous balance (only if there was no transaction)\n",
    "df_complete = df_complete.withColumn(\n",
    "    \"inactive_interest\",\n",
    "    when(col(\"daily_amount\") == 0, round(col(\"prev_balance\") * 0.005, 2)).otherwise(0.0)\n",
    ")\n",
    "\n",
    "# 6. Total including interests\n",
    "df_complete = df_complete.withColumn(\n",
    "    \"total_with_interest\",\n",
    "    round(col(\"daily_balance\") + col(\"interest_above_100\") + col(\"inactive_interest\"), 2)\n",
    ")\n",
    "\n",
    "# Display result\n",
    "df_complete.select(\n",
    "    \"account_id\", \"user_id\", \"date\", \"daily_amount\",\n",
    "    \"daily_balance\", \"prev_balance\",\n",
    "    \"interest_above_100\", \"inactive_interest\", \"total_with_interest\"\n",
    ").orderBy(\"account_id\", \"date\").display()\n"
   ]
  },
  {
   "cell_type": "code",
   "execution_count": 0,
   "metadata": {
    "application/vnd.databricks.v1+cell": {
     "cellMetadata": {
      "byteLimit": 2048000,
      "rowLimit": 10000
     },
     "inputWidgets": {},
     "nuid": "aed87b57-ba2e-4c62-abdf-33623383057a",
     "showTitle": false,
     "tableResultSettingsMap": {},
     "title": ""
    }
   },
   "outputs": [],
   "source": [
    "df_complete.write.format(\"delta\") \\\n",
    "    .mode(\"overwrite\") \\\n",
    "    .partitionBy(\"date\") \\\n",
    "    .save(\"/Volumes/recargapay/recargapay/vol_rp/silver/account_daily_interest_amount\")"
   ]
  },
  {
   "cell_type": "code",
   "execution_count": 0,
   "metadata": {
    "application/vnd.databricks.v1+cell": {
     "cellMetadata": {
      "byteLimit": 2048000,
      "rowLimit": 10000
     },
     "inputWidgets": {},
     "nuid": "3e770975-faea-44f3-9a66-6056f56f8552",
     "showTitle": false,
     "tableResultSettingsMap": {
      "0": {
       "dataGridStateBlob": "{\"version\":1,\"tableState\":{\"columnPinning\":{\"left\":[\"#row_number#\"],\"right\":[]},\"columnSizing\":{},\"columnVisibility\":{}},\"settings\":{\"columns\":{}},\"syncTimestamp\":1754616264207}",
       "filterBlob": null,
       "queryPlanFiltersBlob": null,
       "tableResultIndex": 0
      }
     },
     "title": ""
    }
   },
   "outputs": [],
   "source": [
    "from pyspark.sql.functions import expr\n",
    "\n",
    "# Assume the following DataFrame was loaded as the control table\n",
    "df_rates = spark.createDataFrame([\n",
    "    (\"2024-01-01\", \"2024-12-31\", 0.01, 0.005),\n",
    "    (\"2025-01-01\", \"2025-12-31\", 0.008, 0.004),\n",
    "], [\"start_validity\", \"end_validity\", \"rate_above_100\", \"rate_inactive\"]) \\\n",
    "    .withColumn(\"start_validity\", to_date(\"start_validity\")) \\\n",
    "    .withColumn(\"end_validity\", to_date(\"end_validity\"))\n",
    "\n",
    "# Join with the transactions per date (df_complete)\n",
    "df_final = df_complete.join(\n",
    "    df_rates,\n",
    "    (df_complete[\"date\"] >= df_rates[\"start_validity\"]) & \n",
    "    (df_complete[\"date\"] <= df_rates[\"end_validity\"]),\n",
    "    how=\"left\"\n",
    ")\n",
    "\n",
    "# Apply interests based on dynamic rates\n",
    "df_final = df_final.withColumn(\n",
    "    \"interest_above_100\",\n",
    "    when(col(\"daily_balance\") > 100, round(col(\"daily_balance\") * col(\"rate_above_100\"), 2)).otherwise(0.0)\n",
    ")\n",
    "\n",
    "df_final = df_final.withColumn(\n",
    "    \"inactive_interest\",\n",
    "    when(col(\"daily_amount\") == 0, round(col(\"prev_balance\") * col(\"rate_inactive\"), 2)).otherwise(0.0)\n",
    ")\n",
    "\n",
    "df_final = df_final.withColumn(\n",
    "    \"total_with_interest\",\n",
    "    round(col(\"daily_balance\") + col(\"interest_above_100\") + col(\"inactive_interest\"), 2)\n",
    ")\n",
    "\n",
    "df_final = df_final.withColumn(\n",
    "    \"year_month\",\n",
    "    expr(\"date_format(date, 'yyyyMM')\")\n",
    ")\n",
    "\n",
    "# Display final result\n",
    "df_final.select(\n",
    "    \"account_id\", \"user_id\", \"date\", \"daily_amount\",\n",
    "    \"daily_balance\", \"prev_balance\",\n",
    "    \"rate_above_100\", \"rate_inactive\",\n",
    "    \"interest_above_100\", \"inactive_interest\", \"total_with_interest\",\"year_month\"\n",
    ").orderBy(\"account_id\", \"date\").display()\n"
   ]
  },
  {
   "cell_type": "code",
   "execution_count": 0,
   "metadata": {
    "application/vnd.databricks.v1+cell": {
     "cellMetadata": {
      "byteLimit": 2048000,
      "rowLimit": 10000
     },
     "inputWidgets": {},
     "nuid": "f855ecf6-48d1-497c-a79b-4eacdcc48faa",
     "showTitle": false,
     "tableResultSettingsMap": {},
     "title": ""
    }
   },
   "outputs": [],
   "source": [
    "df_final.write.format(\"delta\") \\\n",
    "    .mode(\"overwrite\") \\\n",
    "    .partitionBy(\"year_month\") \\\n",
    "    .save(\"/Volumes/recargapay/recargapay/vol_rp/gold/account_daily_summary\")"
   ]
  }
 ],
 "metadata": {
  "application/vnd.databricks.v1+notebook": {
   "computePreferences": null,
   "dashboards": [],
   "environmentMetadata": {
    "base_environment": "",
    "environment_version": "2"
   },
   "inputWidgetPreferences": null,
   "language": "python",
   "notebookMetadata": {
    "pythonIndentUnit": 4
   },
   "notebookName": "rp_project",
   "widgets": {}
  },
  "language_info": {
   "name": "python"
  }
 },
 "nbformat": 4,
 "nbformat_minor": 0
}
