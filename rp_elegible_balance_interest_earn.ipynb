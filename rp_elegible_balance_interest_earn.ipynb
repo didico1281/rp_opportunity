{
 "cells": [
  {
   "cell_type": "code",
   "execution_count": 0,
   "metadata": {
    "application/vnd.databricks.v1+cell": {
     "cellMetadata": {
      "byteLimit": 2048000,
      "rowLimit": 10000
     },
     "inputWidgets": {},
     "nuid": "0d0b0915-3e81-477f-90c5-411c89be8bba",
     "showTitle": false,
     "tableResultSettingsMap": {},
     "title": ""
    }
   },
   "outputs": [],
   "source": [
    "balances_df = spark.read.format(\"delta\").load(\"/Volumes/workspace/recargapay/vol_rp/silver/daily_balance_table\")"
   ]
  },
  {
   "cell_type": "code",
   "execution_count": 0,
   "metadata": {
    "application/vnd.databricks.v1+cell": {
     "cellMetadata": {
      "byteLimit": 2048000,
      "rowLimit": 10000
     },
     "collapsed": true,
     "inputWidgets": {},
     "nuid": "6c87b62b-0dc8-45d4-8979-62e3cfdd3457",
     "showTitle": false,
     "tableResultSettingsMap": {},
     "title": ""
    }
   },
   "outputs": [],
   "source": [
    "from pyspark.sql import SparkSession\n",
    "from pyspark.sql.functions import col, lag, lit, when, expr\n",
    "from pyspark.sql.window import Window\n",
    "\n",
    "# Start Spark session\n",
    "spark = SparkSession.builder.appName(\"InterestCalculation\").getOrCreate()\n",
    "\n",
    "# Parameters (passed externally or set here for testing)\n",
    "rate_above_100 = 0.001  # 0.1% daily\n",
    "rate_unmoved = 0.0005   # 0.05% daily\n",
    "\n",
    "# Example: balances_df must be loaded or created before this\n",
    "# Columns: account_id, user_id, date, daily_amount, daily_balance\n",
    "\n",
    "# 1. Window spec for lag\n",
    "window_spec = Window.partitionBy(\"user_id\").orderBy(\"date\")\n",
    "\n",
    "# 2. Add previous day’s daily_amount to check inactivity\n",
    "df_with_lag = balances_df.withColumn(\n",
    "    \"prev_daily_amount\", lag(\"daily_amount\").over(window_spec)\n",
    ")\n",
    "\n",
    "# 3. Determine interest eligibility and apply respective rates\n",
    "df_interest = df_with_lag.withColumn(\n",
    "    \"interest_above_100\", \n",
    "    when(col(\"daily_balance\") > 100, col(\"daily_balance\") * lit(rate_above_100)).otherwise(0.0)\n",
    ").withColumn(\n",
    "    \"interest_unmoved\",\n",
    "    when((col(\"daily_amount\") == 0) & (col(\"prev_daily_amount\") == 0),\n",
    "         col(\"daily_balance\") * lit(rate_unmoved)).otherwise(0.0)\n",
    ").withColumn(\n",
    "    \"total_interest\", col(\"interest_above_100\") + col(\"interest_unmoved\")\n",
    ")\n",
    "\n",
    "# 4. Select final interest payout\n",
    "result_df = df_interest.select(\n",
    "    \"account_id\", \"user_id\", \"date\", \"daily_balance\",\n",
    "    \"interest_above_100\", \"interest_unmoved\", \"total_interest\"\n",
    ")\n",
    "\n",
    "# Show result\n",
    "result_df.orderBy(\"account_id\", \"date\").display()"
   ]
  },
  {
   "cell_type": "code",
   "execution_count": 0,
   "metadata": {
    "application/vnd.databricks.v1+cell": {
     "cellMetadata": {
      "byteLimit": 2048000,
      "rowLimit": 10000
     },
     "inputWidgets": {},
     "nuid": "c7b10d4f-fbd7-4963-b981-bc56d544cd03",
     "showTitle": false,
     "tableResultSettingsMap": {},
     "title": ""
    }
   },
   "outputs": [],
   "source": [
    "# Write to Delta format\n",
    "result_df.write.mode(\"overwrite\").format(\"delta\").save(\"/Volumes/workspace/recargapay/vol_rp/gold/tb_daily_payment\")"
   ]
  }
 ],
 "metadata": {
  "application/vnd.databricks.v1+notebook": {
   "computePreferences": null,
   "dashboards": [],
   "environmentMetadata": {
    "base_environment": "",
    "environment_version": "2"
   },
   "inputWidgetPreferences": null,
   "language": "python",
   "notebookMetadata": {
    "pythonIndentUnit": 4
   },
   "notebookName": "rp_elegible_balance_interest_earn",
   "widgets": {}
  },
  "language_info": {
   "name": "python"
  }
 },
 "nbformat": 4,
 "nbformat_minor": 0
}
