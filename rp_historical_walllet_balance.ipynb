{
 "cells": [
  {
   "cell_type": "code",
   "execution_count": 0,
   "metadata": {
    "application/vnd.databricks.v1+cell": {
     "cellMetadata": {
      "byteLimit": 2048000,
      "rowLimit": 10000
     },
     "inputWidgets": {},
     "nuid": "1c732783-f606-4feb-82d8-c6b5d4a53db1",
     "showTitle": false,
     "tableResultSettingsMap": {},
     "title": ""
    }
   },
   "outputs": [],
   "source": [
    "# dbutils.fs.mkdirs(\"/Volumes/workspace/recargapay/vol_rp/bronze\")"
   ]
  },
  {
   "cell_type": "code",
   "execution_count": 0,
   "metadata": {
    "application/vnd.databricks.v1+cell": {
     "cellMetadata": {
      "byteLimit": 2048000,
      "rowLimit": 10000
     },
     "inputWidgets": {},
     "nuid": "13161427-f782-4a7c-a7db-904d1164c1ff",
     "showTitle": false,
     "tableResultSettingsMap": {},
     "title": ""
    }
   },
   "outputs": [],
   "source": [
    "# dbutils.fs.mkdirs(\"/Volumes/workspace/recargapay/vol_rp/silver\")"
   ]
  },
  {
   "cell_type": "code",
   "execution_count": 0,
   "metadata": {
    "application/vnd.databricks.v1+cell": {
     "cellMetadata": {
      "byteLimit": 2048000,
      "rowLimit": 10000
     },
     "inputWidgets": {},
     "nuid": "297c5837-4725-43c1-b52b-dde16db4d7bf",
     "showTitle": false,
     "tableResultSettingsMap": {},
     "title": ""
    }
   },
   "outputs": [],
   "source": [
    "# dbutils.fs.mkdirs(\"/Volumes/workspace/recargapay/vol_rp/gold\")"
   ]
  },
  {
   "cell_type": "code",
   "execution_count": 0,
   "metadata": {
    "application/vnd.databricks.v1+cell": {
     "cellMetadata": {
      "byteLimit": 2048000,
      "rowLimit": 10000
     },
     "inputWidgets": {},
     "nuid": "adc78886-02d2-4bc1-8998-d37563f75101",
     "showTitle": false,
     "tableResultSettingsMap": {
      "0": {
       "dataGridStateBlob": "{\"version\":1,\"tableState\":{\"columnPinning\":{\"left\":[\"#row_number#\"],\"right\":[]},\"columnSizing\":{\"event_time\":217},\"columnVisibility\":{}},\"settings\":{\"columns\":{}},\"syncTimestamp\":1754242605884}",
       "filterBlob": null,
       "queryPlanFiltersBlob": null,
       "tableResultIndex": 0
      }
     },
     "title": ""
    }
   },
   "outputs": [],
   "source": [
    "df = spark.read.format('parquet').option('header', 'true').option('inferSchema', 'true').load(\"/Volumes/workspace/recargapay/vol_rp/bronze/*.parquet\").orderBy(\"account_id\", \"event_time\")\n",
    "display(df)"
   ]
  },
  {
   "cell_type": "code",
   "execution_count": 0,
   "metadata": {
    "application/vnd.databricks.v1+cell": {
     "cellMetadata": {
      "byteLimit": 2048000,
      "rowLimit": 10000
     },
     "inputWidgets": {},
     "nuid": "a3bf0965-bca6-4d26-ab7b-fc82d1eeb719",
     "showTitle": false,
     "tableResultSettingsMap": {},
     "title": ""
    }
   },
   "outputs": [],
   "source": [
    "from pyspark.sql.functions import col, date_format, sum as _sum, explode, sequence, lit, min as _min, max as _max\n",
    "from pyspark.sql.window import Window\n",
    "\n",
    "# STEP 1: Format date and aggregate total amount per day\n",
    "daily_totals = (\n",
    "    df.withColumn(\"date\", date_format(\"event_time\", \"yyyy-MM-dd\"))\n",
    "      .groupBy(\"account_id\", \"user_id\", \"date\")\n",
    "      .agg(_sum(\"amount\").alias(\"daily_amount\"))\n",
    ")\n",
    "\n",
    "# STEP 2: Generate full calendar date range\n",
    "min_date = df.select(date_format(\"event_time\", \"yyyy-MM-dd\").alias(\"date\")).agg(_min(\"date\")).first()[0]\n",
    "max_date = df.select(date_format(\"event_time\", \"yyyy-MM-dd\").alias(\"date\")).agg(_max(\"date\")).first()[0]\n",
    "\n",
    "calendar = spark.createDataFrame([(min_date, max_date)], [\"start\", \"end\"]) \\\n",
    "    .withColumn(\"date\", explode(sequence(lit(min_date).cast(\"date\"), lit(max_date).cast(\"date\"), lit(1).cast(\"interval day\")))) \\\n",
    "    .selectExpr(\"date_format(date, 'yyyy-MM-dd') as date\")\n",
    "\n",
    "# STEP 3: Cross join all account_id + user_id pairs with the full date range\n",
    "account_users = df.select(\"account_id\", \"user_id\").distinct()\n",
    "full_grid = account_users.crossJoin(calendar)\n",
    "\n",
    "# STEP 4: Join with actual daily totals and fill missing values\n",
    "daily_complete = full_grid.join(daily_totals, on=[\"account_id\", \"user_id\", \"date\"], how=\"left\") \\\n",
    "                          .fillna({\"daily_amount\": 0.0})\n",
    "\n",
    "# STEP 5: Define window and compute cumulative balance\n",
    "window_spec = Window.partitionBy(\"account_id\").orderBy(\"date\").rowsBetween(Window.unboundedPreceding, 0)\n",
    "\n",
    "result = (\n",
    "    daily_complete.withColumn(\"daily_balance\", _sum(\"daily_amount\").over(window_spec))\n",
    "                  .orderBy(\"account_id\", \"date\")\n",
    ")\n",
    "\n",
    "display(result)"
   ]
  },
  {
   "cell_type": "code",
   "execution_count": 0,
   "metadata": {
    "application/vnd.databricks.v1+cell": {
     "cellMetadata": {
      "byteLimit": 2048000,
      "rowLimit": 10000
     },
     "inputWidgets": {},
     "nuid": "286a671b-ef97-46b2-a6e2-8bd9def35cb5",
     "showTitle": false,
     "tableResultSettingsMap": {},
     "title": ""
    }
   },
   "outputs": [],
   "source": [
    "result.write.mode(\"overwrite\").format(\"delta\").save(\"/Volumes/workspace/recargapay/vol_rp/silver/daily_balance_table\")"
   ]
  }
 ],
 "metadata": {
  "application/vnd.databricks.v1+notebook": {
   "computePreferences": null,
   "dashboards": [],
   "environmentMetadata": {
    "base_environment": "",
    "environment_version": "2"
   },
   "inputWidgetPreferences": null,
   "language": "python",
   "notebookMetadata": {
    "pythonIndentUnit": 4
   },
   "notebookName": "rp_historical_walllet_balance",
   "widgets": {}
  },
  "language_info": {
   "name": "python"
  }
 },
 "nbformat": 4,
 "nbformat_minor": 0
}
